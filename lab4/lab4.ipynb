{
 "cells": [
  {
   "cell_type": "code",
   "execution_count": null,
   "metadata": {},
   "outputs": [],
   "source": [
    "from sklearn import datasets\n",
    "from sklearn.metrics import accuracy_score"
   ]
  },
  {
   "cell_type": "code",
   "execution_count": null,
   "metadata": {},
   "outputs": [],
   "source": [
    "data_breast_cancer_X, data_breast_cancer_y = datasets.load_breast_cancer(return_X_y= True, as_frame=True)\n",
    "data_breast_cancer_y"
   ]
  },
  {
   "cell_type": "code",
   "execution_count": null,
   "metadata": {},
   "outputs": [],
   "source": [
    "data_breast_cancer_X = data_breast_cancer_X[([\"mean area\", \"mean smoothness\"])]\n",
    "data_breast_cancer_X"
   ]
  },
  {
   "cell_type": "code",
   "execution_count": null,
   "metadata": {},
   "outputs": [],
   "source": [
    "from sklearn.model_selection import train_test_split\n",
    "X_train, X_test, y_train, y_test = train_test_split(data_breast_cancer_X, data_breast_cancer_y, test_size=0.2)\n"
   ]
  },
  {
   "cell_type": "code",
   "execution_count": null,
   "metadata": {},
   "outputs": [],
   "source": [
    "import numpy as np\n",
    "from sklearn import datasets\n",
    "from sklearn.pipeline import Pipeline\n",
    "from sklearn.preprocessing import StandardScaler\n",
    "from sklearn.svm import LinearSVC\n",
    "import pandas as pd"
   ]
  },
  {
   "cell_type": "code",
   "execution_count": null,
   "metadata": {},
   "outputs": [],
   "source": [
    "svm_clf = Pipeline([(\"linear_svc\", LinearSVC(C=1,loss=\"hinge\",random_state=42)),])"
   ]
  },
  {
   "cell_type": "code",
   "execution_count": null,
   "metadata": {},
   "outputs": [],
   "source": [
    "svm_clf.fit(X_train, y_train)"
   ]
  },
  {
   "cell_type": "code",
   "execution_count": null,
   "metadata": {},
   "outputs": [],
   "source": [
    "acc = []\n",
    "y_train_predict = svm_clf.predict(X_train)\n",
    "y_test_predict = svm_clf.predict(X_test)\n",
    "accuracy0 = np.array([accuracy_score(y_train, y_train_predict, normalize=True, sample_weight=None), accuracy_score(y_test, y_test_predict, normalize=True, sample_weight=None)])\n",
    "accuracy0"
   ]
  },
  {
   "cell_type": "code",
   "execution_count": null,
   "metadata": {},
   "outputs": [],
   "source": [
    "svm_clf_scaled = Pipeline([(\"scaler\", StandardScaler()),(\"linear_svc\", LinearSVC(C=1,loss=\"hinge\",random_state=42)),])\n",
    "svm_clf_scaled.fit(X_train, y_train)"
   ]
  },
  {
   "cell_type": "code",
   "execution_count": null,
   "metadata": {},
   "outputs": [],
   "source": [
    "y_train_predict = svm_clf_scaled.predict(X_train)\n",
    "y_test_predict = svm_clf_scaled.predict(X_test)\n",
    "accuracy1 = np.array([accuracy_score(y_train, y_train_predict, normalize=True, sample_weight=None), accuracy_score(y_test, y_test_predict, normalize=True, sample_weight=None)])\n",
    "accuracy1"
   ]
  },
  {
   "cell_type": "code",
   "execution_count": null,
   "metadata": {},
   "outputs": [],
   "source": [
    "acc = [accuracy0[0], accuracy1[0], accuracy0[1], accuracy1[1]]\n",
    "acc "
   ]
  },
  {
   "cell_type": "code",
   "execution_count": null,
   "metadata": {},
   "outputs": [],
   "source": [
    "import pickle\n",
    "with open('bc_acc.pkl', 'wb') as f_cva:\n",
    "    pickle.dump(acc, f_cva)"
   ]
  },
  {
   "cell_type": "code",
   "execution_count": null,
   "metadata": {},
   "outputs": [],
   "source": [
    "data_iris = datasets.load_iris()\n",
    "data_iris_X, data_iris_y = datasets.load_iris(return_X_y=True, as_frame=True)\n",
    "data_iris_X = data_iris_X[([\"sepal length (cm)\", \"sepal width (cm)\"])]\n",
    "data_iris_y"
   ]
  },
  {
   "cell_type": "code",
   "execution_count": null,
   "metadata": {},
   "outputs": [],
   "source": [
    "from sklearn.model_selection import train_test_split\n",
    "X_train, X_test, y_train, y_test = train_test_split(data_iris_X, data_iris_y, test_size=0.2)\n"
   ]
  },
  {
   "cell_type": "code",
   "execution_count": null,
   "metadata": {},
   "outputs": [],
   "source": [
    "svm_clf = Pipeline([(\"linear_svc\", LinearSVC(C=1,loss=\"hinge\",random_state=42)),])"
   ]
  },
  {
   "cell_type": "code",
   "execution_count": null,
   "metadata": {},
   "outputs": [],
   "source": [
    "svm_clf.fit(X_train, y_train)"
   ]
  },
  {
   "cell_type": "code",
   "execution_count": null,
   "metadata": {},
   "outputs": [],
   "source": [
    "acc = []\n",
    "y_train_predict = svm_clf.predict(X_train)\n",
    "y_test_predict = svm_clf.predict(X_test)\n",
    "accuracy0 = np.array([accuracy_score(y_train, y_train_predict, normalize=True, sample_weight=None), accuracy_score(y_test, y_test_predict, normalize=True, sample_weight=None)])\n",
    "accuracy0"
   ]
  },
  {
   "cell_type": "markdown",
   "metadata": {},
   "source": []
  },
  {
   "cell_type": "code",
   "execution_count": null,
   "metadata": {},
   "outputs": [],
   "source": [
    "svm_clf_scaled = Pipeline([(\"scaler\", StandardScaler()),(\"linear_svc\", LinearSVC(C=1,loss=\"hinge\",random_state=42)),])\n",
    "svm_clf_scaled.fit(X_train, y_train)"
   ]
  },
  {
   "cell_type": "code",
   "execution_count": null,
   "metadata": {},
   "outputs": [],
   "source": [
    "y_train_predict = svm_clf_scaled.predict(X_train)\n",
    "y_test_predict = svm_clf_scaled.predict(X_test)\n",
    "accuracy1 = np.array([accuracy_score(y_train, y_train_predict, normalize=True, sample_weight=None), accuracy_score(y_test, y_test_predict, normalize=True, sample_weight=None)])\n",
    "accuracy1"
   ]
  },
  {
   "cell_type": "code",
   "execution_count": null,
   "metadata": {},
   "outputs": [],
   "source": [
    "acc = [accuracy0[0], accuracy1[0], accuracy0[1], accuracy1[1]]\n",
    "acc "
   ]
  },
  {
   "cell_type": "code",
   "execution_count": null,
   "metadata": {},
   "outputs": [],
   "source": [
    "import pickle\n",
    "with open('iris_acc.pkl', 'wb') as f_cva:\n",
    "    pickle.dump(acc, f_cva)"
   ]
  }
 ],
 "metadata": {
  "interpreter": {
   "hash": "b0fa6594d8f4cbf19f97940f81e996739fb7646882a419484c72d19e05852a7e"
  },
  "kernelspec": {
   "display_name": "Python 3.9.10 64-bit",
   "language": "python",
   "name": "python3"
  },
  "language_info": {
   "codemirror_mode": {
    "name": "ipython",
    "version": 3
   },
   "file_extension": ".py",
   "mimetype": "text/x-python",
   "name": "python",
   "nbconvert_exporter": "python",
   "pygments_lexer": "ipython3",
   "version": "3.9.12"
  },
  "orig_nbformat": 4
 },
 "nbformat": 4,
 "nbformat_minor": 2
}
