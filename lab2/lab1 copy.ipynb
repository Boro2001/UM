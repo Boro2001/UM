{
 "cells": [
  {
   "cell_type": "code",
   "execution_count": 1,
   "id": "950cefba-452e-4b0e-a528-0e14032b6596",
   "metadata": {},
   "outputs": [
    {
     "name": "stdout",
     "output_type": "stream",
     "text": [
      "(56000, 784) (56000,)\n",
      "(14000, 784) (14000,)\n",
      "[0.9903035714285714, 0.9886428571428572]\n"
     ]
    }
   ],
   "source": [
    "import numpy as np\n",
    "import pandas as pd\n",
    "import matplotlib as mpl\n",
    "import matplotlib.pyplot as plt\n",
    "from sklearn.datasets import fetch_openml\n",
    "mnist = fetch_openml('mnist_784', version=1, as_frame=False)\n",
    "mnist.keys()\n",
    "X, y = mnist[\"data\"], mnist[\"target\"].astype(np.uint8)\n",
    "X_train, X_test = X[:56000], X[56000:]\n",
    "y_train, y_test = y[:56000], y[56000:]\n",
    "print(X_train.shape, y_train.shape)\n",
    "print(X_test.shape, y_test.shape)\n",
    "y_train_0 = (y_train == 0)\n",
    "y_test_0 = (y_test ==0)\n",
    "from sklearn.linear_model import SGDClassifier\n",
    "sgd_clf = SGDClassifier(random_state=30)\n",
    "sgd_clf.fit(X_train, y_train_0)\n",
    "predict_y_train_0 = sgd_clf.predict(X_train)\n",
    "predict_y_test_0 = sgd_clf.predict(X_test)\n",
    "from sklearn.metrics import accuracy_score\n",
    "accuracy = np.array([accuracy_score(y_train_0, predict_y_train_0, normalize=True, sample_weight=None), accuracy_score(y_test_0, predict_y_test_0, normalize=True, sample_weight=None)])\n",
    "accuracy = accuracy.tolist()\n",
    "print(accuracy)\n",
    "import pickle\n",
    "with open('sgd_acc.pkl', 'wb') as f_acc:\n",
    "    pickle.dump(accuracy, f_acc)\n",
    "from sklearn.model_selection import cross_val_score\n",
    "cva = cross_val_score(sgd_clf, X_train, y_train_0, cv=3, scoring=\"accuracy\")\n",
    "cva = cva.tolist()\n",
    "import pickle\n",
    "with  open('sgd_cva.pkl', 'wb') as f_cva:\n",
    "    pickle.dump(cva, f_cva)\n",
    "sgd_m_clf = SGDClassifier(random_state=30,n_jobs=-1)\n",
    "sgd_m_clf.fit(X_train, y_train)\n",
    "\n",
    "from sklearn.model_selection import cross_val_predict\n",
    "y_pred = cross_val_predict(sgd_m_clf, X, y, cv=3, n_jobs=-1)\n",
    "from sklearn.metrics import confusion_matrix\n",
    "confusion_matrix = confusion_matrix(y, y_pred)\n",
    "confusion_matrix.tolist()\n",
    "with open('sgd_cmx.pkl', 'wb') as f_conf:\n",
    "    pickle.dump(confusion_matrix.tolist(), f_conf)"
   ]
  },
  {
   "cell_type": "code",
   "execution_count": null,
   "id": "73f18bc2",
   "metadata": {},
   "outputs": [],
   "source": []
  }
 ],
 "metadata": {
  "kernelspec": {
   "display_name": "Python 3 (ipykernel)",
   "language": "python",
   "name": "python3"
  },
  "language_info": {
   "codemirror_mode": {
    "name": "ipython",
    "version": 3
   },
   "file_extension": ".py",
   "mimetype": "text/x-python",
   "name": "python",
   "nbconvert_exporter": "python",
   "pygments_lexer": "ipython3",
   "version": "3.9.10"
  }
 },
 "nbformat": 4,
 "nbformat_minor": 5
}
