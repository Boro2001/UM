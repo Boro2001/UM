{
 "cells": [
  {
   "cell_type": "code",
   "execution_count": 190,
   "metadata": {},
   "outputs": [],
   "source": [
    "from sklearn import datasets\n",
    "from sklearn import ensemble\n",
    "data_breast_cancer_X, data_breast_cancer_y = datasets.load_breast_cancer(return_X_y= True, as_frame=True)\n",
    "data_breast_cancer_X = data_breast_cancer_X[['mean texture','mean symmetry']]\n",
    "data_breast_cancer_X\n",
    "from sklearn.model_selection import train_test_split\n",
    "X_train, X_test, y_train, y_test = train_test_split(data_breast_cancer_X, data_breast_cancer_y, test_size=0.2, random_state=42)"
   ]
  },
  {
   "cell_type": "code",
   "execution_count": 191,
   "metadata": {},
   "outputs": [],
   "source": [
    "# tworzenie estymatorów \n",
    "# 1.drzewa \n",
    "# 2.regresja logistyczna\n",
    "# 3.knn\n",
    "\n",
    "from sklearn.ensemble import RandomForestClassifier\n",
    "from sklearn.ensemble import VotingClassifier\n",
    "from sklearn.linear_model import LogisticRegression\n",
    "from sklearn.neighbors import KNeighborsClassifier\n",
    "from sklearn.tree import DecisionTreeClassifier\n",
    "from sklearn.svm import SVC\n",
    "\n",
    "tree_clf = DecisionTreeClassifier()\n",
    "log_clf = LogisticRegression()\n",
    "knn_clf = KNeighborsClassifier()\n",
    "\n",
    "voting_clf_hard = VotingClassifier(\n",
    "    estimators=[('tree', tree_clf), ('log', log_clf), ('knn', knn_clf)],\n",
    "    voting='hard'\n",
    ")\n",
    "voting_clf_soft = VotingClassifier(\n",
    "    estimators=[('tree', tree_clf), ('log', log_clf), ('knn', knn_clf)],\n",
    "    voting='soft'\n",
    ")"
   ]
  },
  {
   "cell_type": "code",
   "execution_count": 192,
   "metadata": {},
   "outputs": [
    {
     "data": {
      "text/plain": [
       "VotingClassifier(estimators=[('tree', DecisionTreeClassifier()),\n",
       "                             ('log', LogisticRegression()),\n",
       "                             ('knn', KNeighborsClassifier())],\n",
       "                 voting='soft')"
      ]
     },
     "execution_count": 192,
     "metadata": {},
     "output_type": "execute_result"
    }
   ],
   "source": [
    "voting_clf_hard.fit(X_train, y_train)\n",
    "voting_clf_soft.fit(X_train, y_train)"
   ]
  },
  {
   "cell_type": "code",
   "execution_count": 193,
   "metadata": {},
   "outputs": [
    {
     "name": "stdout",
     "output_type": "stream",
     "text": [
      "[0.8351648351648352, 0.7017543859649122] [0.9648351648351648, 0.6754385964912281]\n"
     ]
    }
   ],
   "source": [
    "#liczenie dokładności dla głosowanie hard i sofr\n",
    "from sklearn.metrics import accuracy_score\n",
    "\n",
    "y_test_predict_hard = voting_clf_hard.predict(X_test)\n",
    "y_test_predict_soft = voting_clf_soft.predict(X_test)\n",
    "\n",
    "y_train_predict_hard = voting_clf_hard.predict(X_train)\n",
    "y_train_predict_soft = voting_clf_soft.predict(X_train)\n",
    "\n",
    "y_test_predict_hard_score = accuracy_score(y_test, y_test_predict_hard)\n",
    "y_test_predict_soft_score = accuracy_score(y_test, y_test_predict_soft)\n",
    "\n",
    "y_train_predict_hard_score = accuracy_score(y_train, y_train_predict_hard)\n",
    "y_train_predict_soft_score = accuracy_score(y_train, y_train_predict_soft)\n",
    "\n",
    "voting_clf_hard_scores = [y_train_predict_hard_score, y_test_predict_hard_score]\n",
    "voting_clf_soft_scores = [y_train_predict_soft_score, y_test_predict_soft_score]\n",
    "\n",
    "print(voting_clf_hard_scores, voting_clf_soft_scores)"
   ]
  },
  {
   "cell_type": "code",
   "execution_count": 194,
   "metadata": {},
   "outputs": [
    {
     "name": "stdout",
     "output_type": "stream",
     "text": [
      "1.0 0.631578947368421\n",
      "0.7230769230769231 0.7017543859649122\n",
      "0.7714285714285715 0.6403508771929824\n"
     ]
    }
   ],
   "source": [
    "# dokładności dla kazdego z samych estymatorów\n",
    "for estimator in voting_clf_hard.estimators_:\n",
    "    accuracy_score_train = accuracy_score(y_train, estimator.predict(X_train))\n",
    "    accuracy_score_test = accuracy_score(y_test, estimator.predict(X_test))\n",
    "    print(accuracy_score_train, accuracy_score_test)"
   ]
  },
  {
   "cell_type": "code",
   "execution_count": 195,
   "metadata": {},
   "outputs": [
    {
     "name": "stdout",
     "output_type": "stream",
     "text": [
      "0.9736263736263736 0.6491228070175439\n",
      "0.9296703296703297 0.6842105263157895\n",
      "0.9956043956043956 0.6754385964912281\n",
      "1.0 0.6228070175438597\n",
      "0.9956043956043956 0.6754385964912281\n",
      "0.8 0.7368421052631579\n",
      "0.8373626373626374 0.7105263157894737\n"
     ]
    }
   ],
   "source": [
    "# 6 bagginc clf, bagging 50 prc, pasting, pasting 50 prc, random forest, adaboost, gradient boosing\n",
    "from sklearn.ensemble import RandomForestClassifier\n",
    "from sklearn.ensemble import BaggingClassifier\n",
    "from sklearn.ensemble import RandomForestClassifier\n",
    "from sklearn.ensemble import AdaBoostClassifier\n",
    "from sklearn.ensemble import GradientBoostingClassifier\n",
    "\n",
    "bgg_clf = BaggingClassifier(DecisionTreeClassifier(), n_estimators=30, random_state=42)\n",
    "bgg_clf_50 = BaggingClassifier(DecisionTreeClassifier(), n_estimators=30, max_samples=.5, random_state=42)\n",
    "pst_clf = BaggingClassifier(DecisionTreeClassifier(), bootstrap=False, n_estimators=30, random_state=42)\n",
    "pst_clf_50 = BaggingClassifier(DecisionTreeClassifier(), bootstrap=False, n_estimators=30, max_samples=.5, random_state=42)\n",
    "rnd_clf = RandomForestClassifier(n_estimators=30, random_state=42)\n",
    "ada_clf = AdaBoostClassifier(n_estimators=30, random_state=42)\n",
    "grd_clf = GradientBoostingClassifier(n_estimators=30, random_state=42)\n",
    "\n",
    "for estimator in {bgg_clf, bgg_clf_50, pst_clf, pst_clf_50, rnd_clf, ada_clf, grd_clf}:\n",
    "    estimator.fit(X_train, y_train)\n",
    "    acc_train = accuracy_score(y_train, estimator.predict(X_train))\n",
    "    acc_test = accuracy_score(y_test, estimator.predict(X_test))\n",
    "    print(acc_train, acc_test)"
   ]
  },
  {
   "cell_type": "code",
   "execution_count": 196,
   "metadata": {},
   "outputs": [],
   "source": [
    "# 7 "
   ]
  }
 ],
 "metadata": {
  "interpreter": {
   "hash": "b0fa6594d8f4cbf19f97940f81e996739fb7646882a419484c72d19e05852a7e"
  },
  "kernelspec": {
   "display_name": "Python 3.9.12 64-bit",
   "language": "python",
   "name": "python3"
  },
  "language_info": {
   "codemirror_mode": {
    "name": "ipython",
    "version": 3
   },
   "file_extension": ".py",
   "mimetype": "text/x-python",
   "name": "python",
   "nbconvert_exporter": "python",
   "pygments_lexer": "ipython3",
   "version": "3.9.12"
  },
  "orig_nbformat": 4
 },
 "nbformat": 4,
 "nbformat_minor": 2
}
