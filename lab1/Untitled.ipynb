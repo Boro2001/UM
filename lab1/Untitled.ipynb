{
 "cells": [
  {
   "cell_type": "code",
   "execution_count": 15,
   "id": "46568da2",
   "metadata": {},
   "outputs": [],
   "source": [
    "import pandas as pd\n",
    "import matplotlib\n",
    "from matplotlib import pyplot as plt\n",
    "import os\n",
    "import tarfile\n",
    "import urllib\n",
    "import gzip\n",
    "import numpy as np\n",
    "import shutil\n",
    "import pickle\n",
    "#zbior danych\n",
    "urllib.request.urlretrieve(\"https://raw.githubusercontent.com/ageron/handson-ml2/master/datasets/housing/housing.tgz\", \"housing.tgz\")\n",
    "file = tarfile.open('housing.tgz')\n",
    "file.extractall()\n",
    "file.close()\n",
    "with open('housing.csv', 'rb') as f_in, gzip.open('housing.csv.gz', 'wb') as f_out:\n",
    "    shutil.copyfileobj(f_in, f_out)\n",
    "#Informacje o zbiorze danych\n",
    "df = pd.read_csv('housing.csv.gz')\n",
    "df.head()\n",
    "df.info()\n",
    "df['ocean_proximity'].dtypes\n",
    "df['ocean_proximity'].describe()\n",
    "df['ocean_proximity'].value_counts()\n",
    "#Wizualizacja\n",
    "df.hist(bins=50, figsize=(20,15))\n",
    "plt.savefig('obraz1.png')\n",
    "df.plot(kind=\"scatter\", x=\"longitude\", y=\"latitude\",\n",
    "        alpha=0.1, figsize=(7,4))\n",
    "plt.savefig('obraz2.png')\n",
    "df.plot(kind=\"scatter\", x=\"longitude\", y=\"latitude\",\n",
    "        alpha=0.4, figsize=(7,3), colorbar=True,\n",
    "        s=df[\"population\"]/100, label=\"population\", \n",
    "        c=\"median_house_value\", cmap=plt.get_cmap(\"jet\"))\n",
    "plt.savefig('obraz3.png')\n",
    "#Analiza\n",
    "korelacja = df.corr()[\"median_house_value\"].sort_values(ascending=False)\n",
    "korelacja.reset_index()\\\n",
    ".rename(columns=({\"index\":\"atrybut\", \"median_house_value\":\"wspolczynnik_korelacji\"})).\\\n",
    "to_csv(\"korelacja.csv\")\n",
    "import seaborn as sns\n",
    "sns.pairplot(df)\n",
    "#Przygotowanie do uczenia\n",
    "from sklearn.model_selection import train_test_split\n",
    "train_set, test_set = train_test_split(df,\n",
    "                                       test_size=0.2,\n",
    "                                       random_state=42)\n",
    "len(train_set),len(test_set)\n",
    "pickle.dump(train_set, open('train_set.pkl', 'wb'))\n",
    "pickle.dump(test_set, open('test_set.pkl', 'wb'))\n"
   ]
  },
  {
   "cell_type": "code",
   "execution_count": null,
   "id": "c7362903",
   "metadata": {},
   "outputs": [],
   "source": []
  }
 ],
 "metadata": {
  "kernelspec": {
   "display_name": "Python 3 (ipykernel)",
   "language": "python",
   "name": "python3"
  },
  "language_info": {
   "codemirror_mode": {
    "name": "ipython",
    "version": 3
   },
   "file_extension": ".py",
   "mimetype": "text/x-python",
   "name": "python",
   "nbconvert_exporter": "python",
   "pygments_lexer": "ipython3",
   "version": "3.9.10"
  }
 },
 "nbformat": 4,
 "nbformat_minor": 5
}
