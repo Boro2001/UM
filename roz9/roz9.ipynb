{
 "cells": [
  {
   "cell_type": "code",
   "execution_count": 12,
   "metadata": {},
   "outputs": [
    {
     "data": {
      "text/plain": [
       "(409, 611, 4)"
      ]
     },
     "execution_count": 12,
     "metadata": {},
     "output_type": "execute_result"
    }
   ],
   "source": [
    "from matplotlib.image import imread\n",
    "from sklearn.cluster import KMeans\n",
    "import os\n",
    "image = imread(os.path.join(\"ladybug.png\"))\n",
    "image.shape"
   ]
  },
  {
   "cell_type": "code",
   "execution_count": 14,
   "metadata": {},
   "outputs": [
    {
     "ename": "error",
     "evalue": "OpenCV(4.5.5) :-1: error: (-5:Bad argument) in function 'imshow'\n> Overload resolution failed:\n>  - Can't convert object to 'str' for 'winname'\n>  - Can't convert object to 'str' for 'winname'\n>  - Can't convert object to 'str' for 'winname'\n",
     "output_type": "error",
     "traceback": [
      "\u001b[0;31m---------------------------------------------------------------------------\u001b[0m",
      "\u001b[0;31merror\u001b[0m                                     Traceback (most recent call last)",
      "\u001b[1;32m/Users/mikolajborowicz/Documents/UM/roz9/roz9.ipynb Cell 2'\u001b[0m in \u001b[0;36m<module>\u001b[0;34m\u001b[0m\n\u001b[1;32m      <a href='vscode-notebook-cell:/Users/mikolajborowicz/Documents/UM/roz9/roz9.ipynb#ch0000001?line=2'>3</a>\u001b[0m segmented_img \u001b[39m=\u001b[39m kmeans\u001b[39m.\u001b[39mcluster_centers_[kmeans\u001b[39m.\u001b[39mlabels_]\n\u001b[1;32m      <a href='vscode-notebook-cell:/Users/mikolajborowicz/Documents/UM/roz9/roz9.ipynb#ch0000001?line=3'>4</a>\u001b[0m segmented_img \u001b[39m=\u001b[39m segmented_img\u001b[39m.\u001b[39mreshape(image\u001b[39m.\u001b[39mshape)\n\u001b[0;32m----> <a href='vscode-notebook-cell:/Users/mikolajborowicz/Documents/UM/roz9/roz9.ipynb#ch0000001?line=4'>5</a>\u001b[0m cv2\u001b[39m.\u001b[39;49mimshow(image, mat\u001b[39m=\u001b[39;49m\u001b[39m1\u001b[39;49m)\n",
      "\u001b[0;31merror\u001b[0m: OpenCV(4.5.5) :-1: error: (-5:Bad argument) in function 'imshow'\n> Overload resolution failed:\n>  - Can't convert object to 'str' for 'winname'\n>  - Can't convert object to 'str' for 'winname'\n>  - Can't convert object to 'str' for 'winname'\n"
     ]
    }
   ],
   "source": [
    "X = image.reshape(-1,4)\n",
    "kmeans = KMeans(n_clusters=8).fit(X)\n",
    "segmented_img = kmeans.cluster_centers_[kmeans.labels_]\n",
    "segmented_img = segmented_img.reshape(image.shape)"
   ]
  },
  {
   "cell_type": "code",
   "execution_count": null,
   "metadata": {},
   "outputs": [],
   "source": [
    "from sklearn.datasets import load_digits\n",
    "X_digits, y_digits = load_digits(return_X_y=True)\n"
   ]
  }
 ],
 "metadata": {
  "interpreter": {
   "hash": "b0fa6594d8f4cbf19f97940f81e996739fb7646882a419484c72d19e05852a7e"
  },
  "kernelspec": {
   "display_name": "Python 3.9.12 64-bit",
   "language": "python",
   "name": "python3"
  },
  "language_info": {
   "codemirror_mode": {
    "name": "ipython",
    "version": 3
   },
   "file_extension": ".py",
   "mimetype": "text/x-python",
   "name": "python",
   "nbconvert_exporter": "python",
   "pygments_lexer": "ipython3",
   "version": "3.9.12"
  },
  "orig_nbformat": 4
 },
 "nbformat": 4,
 "nbformat_minor": 2
}
